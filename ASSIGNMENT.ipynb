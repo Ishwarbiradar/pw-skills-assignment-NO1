{
 "cells": [
  {
   "cell_type": "raw",
   "id": "fde9bdfd-2942-4589-9fff-1068daff4739",
   "metadata": {},
   "source": [
    "Q1.Create one variable containing following type of data:"
   ]
  },
  {
   "cell_type": "raw",
   "id": "aa687c3c-1ee7-4257-b139-ef20386aa487",
   "metadata": {},
   "source": [
    "(i) string"
   ]
  },
  {
   "cell_type": "code",
   "execution_count": 10,
   "id": "58d167d1-2d0b-4225-85ff-6b326bbd317a",
   "metadata": {},
   "outputs": [],
   "source": [
    "a=(\"hello world\")"
   ]
  },
  {
   "cell_type": "code",
   "execution_count": 11,
   "id": "1b61fd19-6426-422f-b5e9-4842052fc05c",
   "metadata": {},
   "outputs": [
    {
     "data": {
      "text/plain": [
       "str"
      ]
     },
     "execution_count": 11,
     "metadata": {},
     "output_type": "execute_result"
    }
   ],
   "source": [
    "type(a)"
   ]
  },
  {
   "cell_type": "raw",
   "id": "0029afc1-6ae3-49da-a064-d4404b256928",
   "metadata": {},
   "source": [
    "(ii) list"
   ]
  },
  {
   "cell_type": "code",
   "execution_count": 7,
   "id": "028f10f2-3858-4c3f-ac69-c90d56a0e029",
   "metadata": {},
   "outputs": [],
   "source": [
    "b=[1,2,3,4,\"ishwar\",True,55.66]"
   ]
  },
  {
   "cell_type": "code",
   "execution_count": 23,
   "id": "3e91181b-02c9-4718-8218-60a25eb775c8",
   "metadata": {},
   "outputs": [
    {
     "data": {
      "text/plain": [
       "list"
      ]
     },
     "execution_count": 23,
     "metadata": {},
     "output_type": "execute_result"
    }
   ],
   "source": [
    "type(b)"
   ]
  },
  {
   "cell_type": "raw",
   "id": "efadfff1-3e07-412d-b3f5-d2cb093f8f06",
   "metadata": {},
   "source": [
    "(iv) tuple"
   ]
  },
  {
   "cell_type": "code",
   "execution_count": 24,
   "id": "45b6df64-33aa-4e28-89b5-d93aade8f552",
   "metadata": {},
   "outputs": [],
   "source": [
    "c=(1,2,3,\"god\")"
   ]
  },
  {
   "cell_type": "code",
   "execution_count": 25,
   "id": "5475d8d9-5130-4d8c-89da-25924b21c41a",
   "metadata": {},
   "outputs": [
    {
     "data": {
      "text/plain": [
       "tuple"
      ]
     },
     "execution_count": 25,
     "metadata": {},
     "output_type": "execute_result"
    }
   ],
   "source": [
    "type(c)"
   ]
  },
  {
   "cell_type": "markdown",
   "id": "a55142f2-8897-4f01-a46b-9bf8bf2ae1e0",
   "metadata": {},
   "source": [
    "(iii) float"
   ]
  },
  {
   "cell_type": "code",
   "execution_count": 28,
   "id": "f13da9f4-9ee0-426c-9295-b816951968d4",
   "metadata": {},
   "outputs": [],
   "source": [
    "d=123.456"
   ]
  },
  {
   "cell_type": "code",
   "execution_count": 29,
   "id": "5363092f-cc89-45c4-9923-eba540e00127",
   "metadata": {},
   "outputs": [
    {
     "data": {
      "text/plain": [
       "float"
      ]
     },
     "execution_count": 29,
     "metadata": {},
     "output_type": "execute_result"
    }
   ],
   "source": [
    "type(d)"
   ]
  },
  {
   "cell_type": "raw",
   "id": "368ee12c-468c-420c-8ba0-839a2efcf11e",
   "metadata": {},
   "source": [
    "Q2. Given are some following variables containing data:\n",
    "(i) var1 = ‘ ‘\n",
    "(ii) var2 = ‘[ DS , ML , Python]’\n",
    "(iii) var3 = [ ‘DS’ , ’ML’ , ‘Python’ ]\n",
    "(iv) var4 = 1."
   ]
  },
  {
   "cell_type": "code",
   "execution_count": 1,
   "id": "15dc5e2a-3a59-4081-a7d8-08de3a9e284c",
   "metadata": {},
   "outputs": [],
   "source": [
    "var1=''"
   ]
  },
  {
   "cell_type": "code",
   "execution_count": 3,
   "id": "e6ff7d17-cc68-4c7f-bc7b-dc9f7a56ddb3",
   "metadata": {},
   "outputs": [
    {
     "data": {
      "text/plain": [
       "str"
      ]
     },
     "execution_count": 3,
     "metadata": {},
     "output_type": "execute_result"
    }
   ],
   "source": [
    "type(var1)"
   ]
  },
  {
   "cell_type": "code",
   "execution_count": 5,
   "id": "52cc994d-e52a-4775-a074-bc97a06d98da",
   "metadata": {},
   "outputs": [],
   "source": [
    "var2='[DS,ML,Python]'"
   ]
  },
  {
   "cell_type": "code",
   "execution_count": 6,
   "id": "cf6fe777-fada-4582-b254-01091a7b642d",
   "metadata": {},
   "outputs": [
    {
     "data": {
      "text/plain": [
       "str"
      ]
     },
     "execution_count": 6,
     "metadata": {},
     "output_type": "execute_result"
    }
   ],
   "source": [
    "type(var2)"
   ]
  },
  {
   "cell_type": "code",
   "execution_count": 7,
   "id": "2c9a5aea-2714-4932-b511-8438dd2f71ce",
   "metadata": {},
   "outputs": [],
   "source": [
    "var3=['DS','ML','Python']"
   ]
  },
  {
   "cell_type": "code",
   "execution_count": 8,
   "id": "811586ce-3cae-426d-b9c4-ccc47a3af35e",
   "metadata": {},
   "outputs": [
    {
     "data": {
      "text/plain": [
       "list"
      ]
     },
     "execution_count": 8,
     "metadata": {},
     "output_type": "execute_result"
    }
   ],
   "source": [
    "type(var3)"
   ]
  },
  {
   "cell_type": "code",
   "execution_count": 11,
   "id": "ed4f2905-4200-4aa5-9445-9e6df057c6fd",
   "metadata": {},
   "outputs": [],
   "source": [
    "var4=1."
   ]
  },
  {
   "cell_type": "code",
   "execution_count": 12,
   "id": "06724d8b-dc89-4274-956f-647af59a7627",
   "metadata": {},
   "outputs": [
    {
     "data": {
      "text/plain": [
       "float"
      ]
     },
     "execution_count": 12,
     "metadata": {},
     "output_type": "execute_result"
    }
   ],
   "source": [
    "type(var4)"
   ]
  },
  {
   "cell_type": "raw",
   "id": "eec68e37-b75a-4662-af54-623f24e6c6fe",
   "metadata": {},
   "source": [
    "Q3. Explain the use of the following operators using an example:\n",
    "(i) /\n",
    "(ii) %\n",
    "(iii) //\n",
    "(iv) **"
   ]
  },
  {
   "cell_type": "markdown",
   "id": "0dad8d2f-8caa-436e-800c-dd37464f9978",
   "metadata": {},
   "source": [
    "/the oerator is known as divison operator in python programing language it used to divide one number by another quotient\n",
    "for EX:"
   ]
  },
  {
   "cell_type": "code",
   "execution_count": 13,
   "id": "4a17c951-b815-4040-9239-cceffd3dfaa0",
   "metadata": {},
   "outputs": [
    {
     "data": {
      "text/plain": [
       "2.4"
      ]
     },
     "execution_count": 13,
     "metadata": {},
     "output_type": "execute_result"
    }
   ],
   "source": [
    "12/5"
   ]
  },
  {
   "cell_type": "markdown",
   "id": "9596ec1b-858b-4453-8ea0-424a9014a3bf",
   "metadata": {},
   "source": [
    "%: this operater is known as modulus operator and this is used to calculate reminder of divison\n",
    "for EX"
   ]
  },
  {
   "cell_type": "code",
   "execution_count": 14,
   "id": "8ca7ccc0-b998-4efc-b0d6-f31eac3dca3c",
   "metadata": {},
   "outputs": [
    {
     "data": {
      "text/plain": [
       "0"
      ]
     },
     "execution_count": 14,
     "metadata": {},
     "output_type": "execute_result"
    }
   ],
   "source": [
    "8%4"
   ]
  },
  {
   "cell_type": "markdown",
   "id": "8f86e5fd-1c40-468d-a5bc-11f6816e36c3",
   "metadata": {},
   "source": [
    "// the operator is known as floor devison operator for Example "
   ]
  },
  {
   "cell_type": "code",
   "execution_count": 15,
   "id": "794674b2-7933-4c55-bb52-d308dfeb5895",
   "metadata": {},
   "outputs": [
    {
     "data": {
      "text/plain": [
       "2"
      ]
     },
     "execution_count": 15,
     "metadata": {},
     "output_type": "execute_result"
    }
   ],
   "source": [
    "5//2"
   ]
  },
  {
   "cell_type": "markdown",
   "id": "c1ffd3e5-fa80-487d-939a-1ebd1c1c9b80",
   "metadata": {},
   "source": [
    "** this operator is known as exponent operator which is used to caculate power of numbers "
   ]
  },
  {
   "cell_type": "code",
   "execution_count": 1,
   "id": "0b874c47-70c0-4228-96f0-157bec3b327f",
   "metadata": {},
   "outputs": [
    {
     "data": {
      "text/plain": [
       "25"
      ]
     },
     "execution_count": 1,
     "metadata": {},
     "output_type": "execute_result"
    }
   ],
   "source": [
    "5**2"
   ]
  },
  {
   "cell_type": "raw",
   "id": "5fa871d8-66a1-4745-8604-6b2d81fdc997",
   "metadata": {},
   "source": [
    "Q4. Create a list of length 10 of your choice containing multiple types of data. Using for loop print the\n",
    "element and its data type."
   ]
  },
  {
   "cell_type": "code",
   "execution_count": 2,
   "id": "06659aa2-2594-4232-9f49-956d7aeb6303",
   "metadata": {},
   "outputs": [
    {
     "name": "stdout",
     "output_type": "stream",
     "text": [
      "1\n",
      "<class 'int'>\n",
      "2\n",
      "<class 'int'>\n",
      "3\n",
      "<class 'int'>\n",
      "4\n",
      "<class 'int'>\n",
      "5\n",
      "<class 'int'>\n",
      "ishwar\n",
      "<class 'str'>\n",
      "23.66j\n",
      "<class 'complex'>\n",
      "True\n",
      "<class 'bool'>\n",
      "123\n",
      "<class 'int'>\n",
      "(6, 7, 8)\n",
      "<class 'tuple'>\n"
     ]
    }
   ],
   "source": [
    "my_list=[1,2,3,4,5,(\"ishwar\"),23.66j,True,123,(6,7,8)]\n",
    "for i in my_list:\n",
    "    print(i)\n",
    "    print(type(i))"
   ]
  },
  {
   "cell_type": "raw",
   "id": "a8a9f37d-4a07-4182-9a6e-d273491065ab",
   "metadata": {},
   "source": [
    "Q5. Using a while loop, verify if the number A is purely divisible by number B and if so then how many\n",
    "times it can be divisible."
   ]
  },
  {
   "cell_type": "code",
   "execution_count": 2,
   "id": "16b29c9c-675d-4e8d-af8e-63374095f606",
   "metadata": {},
   "outputs": [
    {
     "name": "stdout",
     "output_type": "stream",
     "text": [
      "the number A divisible by B,andit can be divided by 2 times.\n"
     ]
    }
   ],
   "source": [
    "A=28\n",
    "B=2\n",
    "count=0\n",
    "while A%B== 0:\n",
    "    A=A/B\n",
    "    count+=1\n",
    "if count>0:\n",
    "    print(f\"the number A divisible by B,andit can be divided by {count} times.\")\n",
    "else:\n",
    "    (\"the number A is not divisible B\")"
   ]
  },
  {
   "cell_type": "markdown",
   "id": "077106df-c6f3-4ce3-b93f-97a0a9453089",
   "metadata": {},
   "source": [
    "Q6. Create a list containing 25 int type data. Using for loop and if-else condition print if the element is\n",
    "divisible by 3 or not."
   ]
  },
  {
   "cell_type": "code",
   "execution_count": 27,
   "id": "8397ae75-8c94-4ea2-957f-e8468f8a4709",
   "metadata": {},
   "outputs": [
    {
     "name": "stdout",
     "output_type": "stream",
     "text": [
      "(i)is not divisible by 3\n",
      "(i)is not divisible by 3\n",
      "(i)is divisible by 3\n",
      "(i)is divisible by 3\n",
      "(i)is not divisible by 3\n",
      "(i)is divisible by 3\n",
      "(i)is not divisible by 3\n",
      "(i)is divisible by 3\n",
      "(i)is divisible by 3\n",
      "(i)is divisible by 3\n",
      "(i)is divisible by 3\n",
      "(i)is not divisible by 3\n",
      "(i)is not divisible by 3\n",
      "(i)is divisible by 3\n",
      "(i)is divisible by 3\n",
      "(i)is not divisible by 3\n",
      "(i)is not divisible by 3\n",
      "(i)is not divisible by 3\n",
      "(i)is not divisible by 3\n",
      "(i)is not divisible by 3\n",
      "(i)is not divisible by 3\n",
      "(i)is divisible by 3\n",
      "(i)is divisible by 3\n",
      "(i)is divisible by 3\n",
      "(i)is divisible by 3\n"
     ]
    }
   ],
   "source": [
    "a= [2, 7, 9, 12, 16, 18, 22, 27, 30, 33, 36, 40, 44, 48, 51, 55, 59, 62, 65, 68, 71, 75, 78, 81, 84]\n",
    "for i in a:\n",
    "    if i%3==0:\n",
    "        print(f\"(i)is divisible by 3\")\n",
    "    else:\n",
    "        print(f\"(i)is not divisible by 3\")"
   ]
  },
  {
   "cell_type": "raw",
   "id": "a0a7b07a-bdec-42b4-bc23-fc0600df8964",
   "metadata": {},
   "source": [
    "Q7. What do you understand about mutable and immutable data types? Give examples for both showing\n",
    "this property."
   ]
  },
  {
   "cell_type": "markdown",
   "id": "8f8986e2-58eb-4e07-9abe-30b9523bf01c",
   "metadata": {},
   "source": [
    "in mutable data type the data can be changed and modified for exanple variable is list  "
   ]
  },
  {
   "cell_type": "code",
   "execution_count": 7,
   "id": "dae0a3f0-3d98-4b91-bc32-5cfe29f472fe",
   "metadata": {},
   "outputs": [],
   "source": [
    "h=[1,2,3,4,5,\"xyz\"]"
   ]
  },
  {
   "cell_type": "code",
   "execution_count": 8,
   "id": "31878284-0ac6-42be-8eea-fe42a46e7bee",
   "metadata": {},
   "outputs": [],
   "source": [
    "h[5]=\"abc\""
   ]
  },
  {
   "cell_type": "code",
   "execution_count": 9,
   "id": "584e08b0-8f07-4f02-a4c1-2c121ece5c73",
   "metadata": {},
   "outputs": [
    {
     "data": {
      "text/plain": [
       "[1, 2, 3, 4, 5, 'abc']"
      ]
     },
     "execution_count": 9,
     "metadata": {},
     "output_type": "execute_result"
    }
   ],
   "source": [
    "h"
   ]
  },
  {
   "cell_type": "markdown",
   "id": "d7c7a598-0480-49b2-9da8-bfaba3e1980f",
   "metadata": {},
   "source": [
    "in imutable data type the data type can't be changed  or modified for example variable is string "
   ]
  },
  {
   "cell_type": "code",
   "execution_count": 10,
   "id": "391a02c6-2b4f-4ece-8fdb-489ecb968c50",
   "metadata": {},
   "outputs": [],
   "source": [
    "s=(\"hello world\")"
   ]
  },
  {
   "cell_type": "code",
   "execution_count": 11,
   "id": "a0f03a06-7511-4287-b6c5-57abd9cea30d",
   "metadata": {},
   "outputs": [
    {
     "ename": "NameError",
     "evalue": "name 'hi' is not defined",
     "output_type": "error",
     "traceback": [
      "\u001b[0;31m---------------------------------------------------------------------------\u001b[0m",
      "\u001b[0;31mNameError\u001b[0m                                 Traceback (most recent call last)",
      "Cell \u001b[0;32mIn[11], line 1\u001b[0m\n\u001b[0;32m----> 1\u001b[0m s[\u001b[38;5;241m1\u001b[39m]\u001b[38;5;241m=\u001b[39m\u001b[43mhi\u001b[49m\n",
      "\u001b[0;31mNameError\u001b[0m: name 'hi' is not defined"
     ]
    }
   ],
   "source": [
    "s[1]=hi"
   ]
  },
  {
   "cell_type": "code",
   "execution_count": null,
   "id": "7616be3a-fa67-4598-9668-51618e58daa7",
   "metadata": {},
   "outputs": [],
   "source": []
  }
 ],
 "metadata": {
  "kernelspec": {
   "display_name": "Python 3 (ipykernel)",
   "language": "python",
   "name": "python3"
  },
  "language_info": {
   "codemirror_mode": {
    "name": "ipython",
    "version": 3
   },
   "file_extension": ".py",
   "mimetype": "text/x-python",
   "name": "python",
   "nbconvert_exporter": "python",
   "pygments_lexer": "ipython3",
   "version": "3.10.8"
  }
 },
 "nbformat": 4,
 "nbformat_minor": 5
}
